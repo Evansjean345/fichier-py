{
  "cells": [
    {
      "cell_type": "code",
      "source": [
        "#question 1\n",
        "\n",
        "my_f=open(\"doc.txt\",'r',encoding = 'utf-8')\n",
        "for line in my_f:\n",
        "       print(line, end = '')\n",
        "\n",
        "#question 2\n",
        "\n",
        "my_f.read(3)\n",
        "\n",
        "#question3\n",
        "\n",
        "my_f.read(-3)\n",
        "\n",
        "#question 4 \n",
        "\n",
        "nbr_cara= 0 #nombre de caracteres\n",
        "nbr_mot= 0 #nombre de mots\n",
        "\n",
        "f=my_f.read()\n",
        "for i in f:\n",
        "    nbr_line=i.count('\\n')    #nombre de lignes\n",
        "    nbr_cara+=1\n",
        "    if not i.isalnum():\n",
        "        nbr_mot+=1\n",
        "        break\n",
        "\n",
        "print(nbr_mot)\n",
        "\n",
        "#question5\n",
        "\n",
        "my_f.readlines(-1)\n",
        "\n",
        "\n"
      ],
      "metadata": {
        "id": "RLLiropLPhA7"
      },
      "execution_count": null,
      "outputs": []
    }
  ],
  "metadata": {
    "colab": {
      "collapsed_sections": [],
      "name": "Bienvenue dans Colaboratory",
      "toc_visible": true,
      "provenance": []
    },
    "kernelspec": {
      "display_name": "Python 3",
      "name": "python3"
    }
  },
  "nbformat": 4,
  "nbformat_minor": 0
}